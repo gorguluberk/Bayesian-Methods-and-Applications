{
 "cells": [
  {
   "cell_type": "markdown",
   "metadata": {},
   "source": [
    "# Bayesian Changepoint Detection"
   ]
  },
  {
   "cell_type": "markdown",
   "metadata": {},
   "source": [
    "## Model"
   ]
  },
  {
   "cell_type": "markdown",
   "metadata": {},
   "source": [
    "$$\\pi_{1} \\sim \\beta(1,1)$$\n",
    "<br>\n",
    "$$\\pi_{2} \\sim \\beta(1,1)$$\n",
    "<br>\n",
    "$$n \\sim U\\left\\{0,50\\right\\}$$\n",
    "<br>\n",
    "\n",
    "Probability of change occurs in i:\n",
    "<br>\n",
    "$$P(n=i|X_{1:50}) = \n",
    "\\dfrac{P(n=i,X_{1:50})}{P(X_{1:50})} = \n",
    "\\dfrac{\\int_{\\pi_{1}}\\int_{\\pi_{2}}P(X_{1:50},\\pi_{1},\\pi_{2},n)*d\\pi_{1}*d\\pi_{2}}\n",
    "    {\\sum_{n}\\int_{\\pi_{1}}\\int_{\\pi_{2}}P(X_{1:50},\\pi_{1},\\pi_{2},n)*d\\pi_{1}*d\\pi_{2}}\n",
    "\\propto \\int_{\\pi_{1}}\\int_{\\pi_{2}}P(X_{1:50},\\pi_{1},\\pi_{2},n)*d\\pi_{1}*d\\pi_{2}$$\n",
    "<br>\n",
    "\n",
    "$$\\int_{\\pi_{1}}\\int_{\\pi_{2}}P(X_{1:50},\\pi_{1},\\pi_{2},n=i)*d\\pi_{1}*d\\pi_{2}=\n",
    "\\int_{\\pi_{1}}\\int_{\\pi_{2}}P(X_{1:i-1}|\\pi_{1},n=i)*P(\\pi_{1})*P(X_{i:50}|\\pi_{2},n=i)*P(\\pi_{2})*P(n=i)*d\\pi_{1}*d\\pi_{2}$$\n",
    "<br>\n",
    "\n",
    "$$=P(n=i)*\\dfrac{\\Gamma{(\\alpha+\\beta)}}{\\Gamma{(\\alpha)}*\\Gamma{(\\beta)}}*\\dfrac{\\Gamma{(\\alpha+\\beta)}}{\\Gamma{(\\alpha)}*\\Gamma{(\\beta)}}\n",
    "*\\int_{\\pi_{1}}\\pi_{1}^{\\alpha-1}*(1-\\pi_{1})^{\\beta-1}*\\prod_{j=1}^{i-1}\\pi_{1}^{[X_{j}==1]}*(1-\\pi_{1})^{[X_{j}==0]}*d\\pi_{1}\n",
    "*\\int_{\\pi_{2}}\\pi_{2}^{\\alpha-1}*(1-\\pi_{2})^{\\beta-1}*\\prod_{j=i}^{50}\\pi_{2}^{[X_{j}==1]}*(1-\\pi_{2})^{[X_{j}==0]}*d\\pi_{2}\n",
    "$$\n",
    "<br>\n",
    "\n",
    "$$=P(n=i)*\\dfrac{\\Gamma{(\\alpha+\\beta)}}{\\Gamma{(\\alpha)}*\\Gamma{(\\beta)}}\n",
    "*\\dfrac{\\Gamma{(\\beta+l_{0}^{i})}*\\Gamma{(\\alpha+l_{1}^{i})}}{\\Gamma{(\\alpha+\\beta+l_{0}^{i}+l_{1}^{i})}}\n",
    "*\\dfrac{\\Gamma{(\\alpha+\\beta)}}{\\Gamma{(\\alpha)}*\\Gamma{(\\beta)}}\n",
    "*\\dfrac{\\Gamma{(\\beta+r_{0}^{i})}*\\Gamma{(\\alpha+r_{1}^{i})}}{\\Gamma{(\\alpha+\\beta+r_{0}^{i}+r_{1}^{i})}}$$\n",
    "<br>\n",
    "\n",
    "$$P(n=i|X_{1:50}) = \\dfrac{\\dfrac{\\Gamma{(\\alpha+\\beta)}}{\\Gamma{(\\alpha)}*\\Gamma{(\\beta)}}\n",
    "*\\dfrac{\\Gamma{(\\beta+l_{0}^{i})}*\\Gamma{(\\alpha+l_{1}^{i})}}{\\Gamma{(\\alpha+\\beta+l_{0}^{i}+l_{1}^{i})}}\n",
    "*\\dfrac{\\Gamma{(\\alpha+\\beta)}}{\\Gamma{(\\alpha)}*\\Gamma{(\\beta)}}\n",
    "*\\dfrac{\\Gamma{(\\beta+r_{0}^{i})}*\\Gamma{(\\alpha+r_{1}^{i})}}{\\Gamma{(\\alpha+\\beta+r_{0}^{i}+r_{1}^{i})}}*P(n=i)}\n",
    "{\\sum_{n}\\bigg( \\dfrac{\\Gamma{(\\alpha+\\beta)}}{\\Gamma{(\\alpha)}*\\Gamma{(\\beta)}}\n",
    "*\\dfrac{\\Gamma{(\\beta+l_{0}^{i})}*\\Gamma{(\\alpha+l_{1}^{i})}}{\\Gamma{(\\alpha+\\beta+l_{0}^{i}+l_{1}^{i})}}\n",
    "*\\dfrac{\\Gamma{(\\alpha+\\beta)}}{\\Gamma{(\\alpha)}*\\Gamma{(\\beta)}}\n",
    "*\\dfrac{\\Gamma{(\\beta+r_{0}^{i})}*\\Gamma{(\\alpha+r_{1}^{i})}}{\\Gamma{(\\alpha+\\beta+r_{0}^{i}+r_{1}^{i})}}*P(n=i)\\bigg)}\n",
    "$$\n",
    "<br>\n",
    "\n",
    "Where $r_{0}^{i}$ represents count of $0$'s at the right side of $n = i$,\n",
    "<br>\n",
    "$r_{1}^{i}$ represents count of $1$'s at the right side of $n = i$,\n",
    "<br>\n",
    "$l_{0}^{i}$ represents count of $0$'s at the left side of $n = i$,\n",
    "<br>\n",
    "$l_{1}^{i}$ represents number of $1$'s at the left side of $n = i$"
   ]
  },
  {
   "cell_type": "markdown",
   "metadata": {},
   "source": [
    "Probability of change of coin is calculated for all of the numbers in the sequence and the maximum of the probabilities is chosen as the change point. "
   ]
  },
  {
   "cell_type": "code",
   "execution_count": 5,
   "metadata": {
    "collapsed": false
   },
   "outputs": [],
   "source": [
    "sequence=[0,0,1,0,0,1,0,0,0,0,1,0,0,0,0,1,0,0,1,0,1,1,0,0,1,1,1,1,1,1,1,1,1,1,1,0,1,1,0,1,1,1,1,1,1,1,1,1,1,1]"
   ]
  },
  {
   "cell_type": "code",
   "execution_count": 6,
   "metadata": {
    "collapsed": false
   },
   "outputs": [
    {
     "name": "stdout",
     "output_type": "stream",
     "text": [
      "Assuming First index is 0: 24\n",
      "Assuming First index is 1: 25\n",
      "Probabilities: [  1.94555547e-05   2.61114024e-05   4.83544489e-05   1.91078064e-05\n",
      "   3.23708720e-05   6.33929577e-05   2.77721529e-05   5.20727867e-05\n",
      "   1.09104886e-04   2.52619775e-04   6.43032156e-04   2.27278607e-04\n",
      "   5.72169919e-04   1.59390192e-03   4.93519260e-03   1.71189493e-02\n",
      "   5.17884182e-03   1.87013732e-02   7.80864356e-02   2.38597442e-02\n",
      "   1.09073116e-01   3.54678316e-02   1.29534689e-02   6.26084331e-02\n",
      "   3.97354855e-01   1.37545911e-01   5.18288942e-02   2.10344538e-02\n",
      "   9.11838392e-03   4.19445660e-03   2.03669709e-03   1.03956414e-03\n",
      "   5.55916653e-04   3.10659306e-04   1.81069996e-04   1.09935354e-04\n",
      "   4.27856515e-04   2.46840297e-04   1.47682229e-04   9.11937764e-04\n",
      "   5.09552808e-04   2.93599475e-04   1.74490644e-04   1.07073804e-04\n",
      "   6.79833678e-05   4.48296121e-05   3.09038177e-05   2.25340338e-05\n",
      "   1.77819586e-05   1.60037628e-05]\n"
     ]
    }
   ],
   "source": [
    "def determineChange(seq,alpha=1,beta=1):\n",
    "    sequence=seq\n",
    "    probs = []\n",
    "    for i in range(len(sequence)):\n",
    "        leftRange = range(i)\n",
    "        leftCount1 = [sequence[j] for j in leftRange].count(1)\n",
    "        leftCount0 = [sequence[j] for j in leftRange].count(0)\n",
    "        rightRange = range(i,len(sequence))\n",
    "        rightCount1 = [sequence[j] for j in rightRange].count(1)\n",
    "        rightCount0 = [sequence[j] for j in rightRange].count(0)\n",
    "        gl = (gamma(alpha+beta)/gamma(alpha)*gamma(beta))*((gamma(beta+leftCount0)*gamma(alpha+leftCount1))/gamma(alpha+beta+leftCount0+leftCount1))\n",
    "        gr = (gamma(alpha+beta)/gamma(alpha)*gamma(beta))*((gamma(beta+rightCount0)*gamma(alpha+rightCount1))/gamma(alpha+beta+rightCount0+rightCount1))\n",
    "        probs.append(gl*gr*1/len(sequence))\n",
    "    probs = probs\n",
    "    probs = np.multiply(probs,1/sum(probs))\n",
    "    return probs.tolist().index(max(probs)),probs\n",
    "\n",
    "print 'Assuming First index is 0:', determineChange(sequence)[0]\n",
    "print 'Assuming First index is 1:', determineChange(sequence)[0]+1\n",
    "print 'Probabilities:',determineChange(sequence)[1]"
   ]
  },
  {
   "cell_type": "markdown",
   "metadata": {},
   "source": [
    "### Plot"
   ]
  },
  {
   "cell_type": "code",
   "execution_count": 7,
   "metadata": {
    "collapsed": false
   },
   "outputs": [
    {
     "data": {
      "text/plain": [
       "[<matplotlib.lines.Line2D at 0x7f0674c63150>]"
      ]
     },
     "execution_count": 7,
     "metadata": {},
     "output_type": "execute_result"
    },
    {
     "data": {
      "image/png": "[encoded data removed]",
      "text/plain": [
       "<matplotlib.figure.Figure at 0x7f06747496d0>"
      ]
     },
     "metadata": {},
     "output_type": "display_data"
    }
   ],
   "source": [
    "plt.plot(determineChange(sequence)[1])"
   ]
  },
  {
   "cell_type": "markdown",
   "metadata": {
    "collapsed": true
   },
   "source": [
    "As in the graph, we can see that there is a significant increases in the probability of change when 0 and 1's start to come mixed. And the probability makes peak at observation 24"
   ]
  },
  {
   "cell_type": "markdown",
   "metadata": {
    "collapsed": true
   },
   "source": []
  },
  {
   "cell_type": "code",
   "execution_count": null,
   "metadata": {
    "collapsed": true
   },
   "outputs": [],
   "source": []
  }
 ],
 "metadata": {
  "anaconda-cloud": {},
  "kernelspec": {
   "display_name": "Python [conda root]",
   "language": "python",
   "name": "conda-root-py"
  },
  "language_info": {
   "codemirror_mode": {
    "name": "ipython",
    "version": 2
   },
   "file_extension": ".py",
   "mimetype": "text/x-python",
   "name": "python",
   "nbconvert_exporter": "python",
   "pygments_lexer": "ipython2",
   "version": "2.7.12"
  }
 },
 "nbformat": 4,
 "nbformat_minor": 1
}
